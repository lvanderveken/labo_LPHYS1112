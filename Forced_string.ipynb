{
 "cells": [
  {
   "cell_type": "markdown",
   "metadata": {},
   "source": [
    "# Second-order wave equation on Chabychev grid with FFT\n",
    "\n",
    "${\\large \\frac{\\partial^2 u}{\\partial t^2}=c^2\\frac{\\partial^2 u}{\\partial x^2}}$\n",
    "\n",
    "avec $u(-1)=-1, \\, u(1)=sin(10t)$\n",
    "\n"
   ]
  },
  {
   "cell_type": "code",
   "execution_count": 1,
   "metadata": {},
   "outputs": [],
   "source": [
    "%matplotlib widget\n",
    "import numpy as np\n",
    "import matplotlib.pyplot as plt\n",
    "import matplotlib as mpl\n",
    "\n",
    "def chebdiff_fft(v):\n",
    "    N=len(v)-1\n",
    "    x=np.cos(np.arange(0,N+1)*np.pi/N)\n",
    "    ii=np.linspace(0,N-1,N,dtype=int)\n",
    "    V=np.append(v,np.flipud(v[1:-1]))\n",
    "    U=np.real(np.fft.fft(V))\n",
    "    f=np.append(ii,np.append(0,-np.flipud(ii[1:])))\n",
    "    W=np.real(np.fft.ifft(1j*f*U))\n",
    "    w=np.zeros(N+1)\n",
    "    w[1:-1]=-W[1:N]/np.sqrt(1-x[1:-1]**2)\n",
    "    w[0]=np.sum(ii**2*U[ii])/N+0.5*N*U[N]\n",
    "    w[-1]=np.sum((-1)**(ii+1)*ii**2*U[ii])/N+0.5*(-1)**(N+1)*N*U[N]\n",
    "    return(w)\n",
    "\n"
   ]
  },
  {
   "cell_type": "code",
   "execution_count": 13,
   "metadata": {},
   "outputs": [],
   "source": [
    "#vitesse de phase\n",
    "c=5\n",
    "#taille de la corde\n",
    "L=3\n",
    "#fréquence d'excitation\n",
    "n=1.5\n",
    "omg=n*c*np.pi/L\n",
    "#temps d'intégration\n",
    "tmax=5"
   ]
  },
  {
   "cell_type": "code",
   "execution_count": 14,
   "metadata": {},
   "outputs": [],
   "source": [
    "N=80\n",
    "x=np.cos(np.arange(0,N+1)*np.pi/N)\n",
    "dt=(8/N**2)/10\n",
    "\n",
    "u=np.zeros(N+1)\n",
    "M=int(np.round(tmax/dt))+1\n",
    "t=np.linspace(0,tmax,M)\n",
    "Dt=100*dt\n",
    "Mspan=int(np.round(tmax/Dt))+1\n",
    "tspan=np.linspace(0,Dt*((Mspan)-1),Mspan)\n",
    "\n",
    "U=np.zeros((N+1,Mspan))\n",
    "ii=0\n",
    "T=0\n",
    "\n",
    "\n",
    "u=np.zeros(N+1)\n",
    "u_old=np.zeros(N+1)\n",
    "for i in range(M):\n",
    "    if t[i]>=T:\n",
    "        U[:,ii]=u\n",
    "        ii=ii+1\n",
    "        T=Dt*ii\n",
    "    w=chebdiff_fft(chebdiff_fft(u))\n",
    "    w[0]=0\n",
    "    w[-1]=0\n",
    "    u_new=2*u-u_old+dt**2*c**2*w\n",
    "    u_new[0]=0 #0.01*np.sin(3*c*np.pi/2*t[i])\n",
    "    u_new[-1]=0.01*np.sin(omg/(2/L)*t[i])\n",
    "    u_old=u\n",
    "    u=u_new\n",
    "    \n"
   ]
  },
  {
   "cell_type": "code",
   "execution_count": 15,
   "metadata": {},
   "outputs": [
    {
     "data": {
      "application/vnd.jupyter.widget-view+json": {
       "model_id": "7edb0ba6b1a04771bb54d3c96147ebb4",
       "version_major": 2,
       "version_minor": 0
      },
      "text/plain": [
       "Canvas(toolbar=Toolbar(toolitems=[('Home', 'Reset original view', 'home', 'home'), ('Back', 'Back to previous …"
      ]
     },
     "metadata": {},
     "output_type": "display_data"
    },
    {
     "data": {
      "text/plain": [
       "Text(0.5, 0.98, 'L= 3, c= 5 et $\\\\omega_{0}$=1.5 $c \\\\frac{\\\\pi}{L}$')"
      ]
     },
     "execution_count": 15,
     "metadata": {},
     "output_type": "execute_result"
    }
   ],
   "source": [
    "x=np.cos(np.arange(0,N+1)*np.pi/N)\n",
    "x_plt=(x+1)*(L/2)\n",
    "\n",
    "xx,ttspan=np.meshgrid(x_plt,tspan)\n",
    "fig,ax=plt.subplots(1,2,figsize=(15,7))\n",
    "a=ax[0].contourf(xx,ttspan,U.T,cmap='viridis')\n",
    "a=ax[1].contourf(xx,ttspan,U.T,cmap='viridis')\n",
    "ax[1].set_ylim(tmax-5,tmax)\n",
    "ax[0].set_xlabel('x',fontsize=20)\n",
    "ax[0].set_ylabel('t',fontsize=20)\n",
    "ax[0].tick_params('both',labelsize=20)\n",
    "ax[1].set_xlabel('x',fontsize=20)\n",
    "ax[1].set_ylabel('t',fontsize=20)\n",
    "ax[1].tick_params('both',labelsize=20)\n",
    "fig.colorbar(a)\n",
    "fig.suptitle(r'L=%2s, c=%2s et $\\omega_{0}$=%1s $c \\frac{\\pi}{L}$'%(L,c,n),fontsize=20)\n",
    "\n"
   ]
  },
  {
   "cell_type": "code",
   "execution_count": 16,
   "metadata": {},
   "outputs": [
    {
     "data": {
      "application/vnd.jupyter.widget-view+json": {
       "model_id": "264886f5547a454294d715c9824723af",
       "version_major": 2,
       "version_minor": 0
      },
      "text/plain": [
       "Canvas(toolbar=Toolbar(toolitems=[('Home', 'Reset original view', 'home', 'home'), ('Back', 'Back to previous …"
      ]
     },
     "metadata": {},
     "output_type": "display_data"
    }
   ],
   "source": [
    "from mpl_toolkits.mplot3d import Axes3D\n",
    "\n",
    "xx,ttspan=np.meshgrid(x_plt,tspan)\n",
    "\n",
    "\n",
    "fig,ax=plt.subplots(figsize=(10,10),subplot_kw=dict(projection='3d'))\n",
    "plt.set_cmap('jet_r')\n",
    "\n",
    "ax.plot_surface(xx,ttspan,U.T,cmap='viridis')\n",
    "\n",
    "ax.set_zlim(-0.1,0.1)\n",
    "ax.set_xlabel('x')\n",
    "ax.set_ylabel('t')\n",
    "plt.show()"
   ]
  },
  {
   "cell_type": "code",
   "execution_count": null,
   "metadata": {},
   "outputs": [],
   "source": []
  },
  {
   "cell_type": "code",
   "execution_count": null,
   "metadata": {},
   "outputs": [],
   "source": []
  },
  {
   "cell_type": "code",
   "execution_count": null,
   "metadata": {},
   "outputs": [],
   "source": []
  }
 ],
 "metadata": {
  "kernelspec": {
   "display_name": "Python 3",
   "language": "python",
   "name": "python3"
  },
  "language_info": {
   "codemirror_mode": {
    "name": "ipython",
    "version": 3
   },
   "file_extension": ".py",
   "mimetype": "text/x-python",
   "name": "python",
   "nbconvert_exporter": "python",
   "pygments_lexer": "ipython3",
   "version": "3.8.5"
  }
 },
 "nbformat": 4,
 "nbformat_minor": 4
}
